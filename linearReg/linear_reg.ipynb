{
 "cells": [
  {
   "cell_type": "code",
   "execution_count": 1,
   "metadata": {
    "collapsed": false
   },
   "outputs": [
    {
     "name": "stderr",
     "output_type": "stream",
     "text": [
      "/home/leiming/anaconda2/lib/python2.7/site-packages/matplotlib/font_manager.py:273: UserWarning: Matplotlib is building the font cache using fc-list. This may take a moment.\n",
      "  warnings.warn('Matplotlib is building the font cache using fc-list. This may take a moment.')\n"
     ]
    }
   ],
   "source": [
    "import matplotlib.pyplot as plt\n",
    "import numpy as np\n",
    "from sklearn import linear_model\n",
    "import pandas as pd"
   ]
  },
  {
   "cell_type": "code",
   "execution_count": 2,
   "metadata": {
    "collapsed": false
   },
   "outputs": [],
   "source": [
    "def load_data(filename):\n",
    "    cols=[\"N\", \"Time_in_us\"]\n",
    "    return pd.read_csv(filename, names=cols)\n",
    "\n",
    "df = load_data('dev0_h2d_stepsize4.csv')\n",
    "\n",
    "X = df[\"N\"]\n",
    "y  = df[\"Time_in_us\"]\n",
    "    \n",
    "X = np.array(X)\n",
    "y = np.array(y)\n",
    "\n",
    "X = X.reshape(-1,1)\n",
    "y = y.reshape(-1,1)"
   ]
  },
  {
   "cell_type": "code",
   "execution_count": 3,
   "metadata": {
    "collapsed": false
   },
   "outputs": [
    {
     "data": {
      "text/plain": [
       "LinearRegression(copy_X=True, fit_intercept=True, n_jobs=1, normalize=False)"
      ]
     },
     "execution_count": 3,
     "metadata": {},
     "output_type": "execute_result"
    }
   ],
   "source": [
    "lr_model = linear_model.LinearRegression()\n",
    "lr_model.fit(X, y)"
   ]
  },
  {
   "cell_type": "code",
   "execution_count": 4,
   "metadata": {
    "collapsed": false
   },
   "outputs": [
    {
     "name": "stdout",
     "output_type": "stream",
     "text": [
      "[[ 0.00062165]]\n",
      "[ 1.8122791]\n"
     ]
    }
   ],
   "source": [
    "print lr_model.coef_\n",
    "print lr_model.intercept_"
   ]
  },
  {
   "cell_type": "code",
   "execution_count": 5,
   "metadata": {
    "collapsed": false
   },
   "outputs": [
    {
     "name": "stdout",
     "output_type": "stream",
     "text": [
      "Mean squared error: 0.001865\n",
      "Variance score: 0.999422\n"
     ]
    }
   ],
   "source": [
    "print \"Mean squared error: %.6f\" % np.mean((lr_model.predict(X) - y) ** 2)\n",
    "print('Variance score: %.6f' % lr_model.score(X, y))"
   ]
  },
  {
   "cell_type": "markdown",
   "metadata": {},
   "source": [
    "### permutation"
   ]
  },
  {
   "cell_type": "code",
   "execution_count": 6,
   "metadata": {
    "collapsed": false
   },
   "outputs": [],
   "source": [
    "np.random.seed(42)\n",
    "\n",
    "sample = np.random.choice(df.index, size= int(len(df) * 0.9), replace=False)\n",
    "\n",
    "data, test_data = df.ix[sample], df.drop(sample)"
   ]
  },
  {
   "cell_type": "code",
   "execution_count": 7,
   "metadata": {
    "collapsed": false
   },
   "outputs": [
    {
     "name": "stdout",
     "output_type": "stream",
     "text": [
      "[[ 0.0006215]]\n",
      "[ 1.81329683]\n"
     ]
    }
   ],
   "source": [
    "X_train, y_train = data[\"N\"], data[\"Time_in_us\"]\n",
    "X_test, y_test = test_data[\"N\"], test_data[\"Time_in_us\"]\n",
    "\n",
    "X_train = X_train.reshape(-1,1)\n",
    "y_train = y_train.reshape(-1,1)\n",
    "\n",
    "X_test = X_train.reshape(-1,1)\n",
    "y_test = y_train.reshape(-1,1)\n",
    "\n",
    "\n",
    "lr_model.fit(X_train, y_train)\n",
    "\n",
    "print lr_model.coef_\n",
    "print lr_model.intercept_"
   ]
  },
  {
   "cell_type": "code",
   "execution_count": 8,
   "metadata": {
    "collapsed": false
   },
   "outputs": [
    {
     "name": "stdout",
     "output_type": "stream",
     "text": [
      "Mean squared error: 0.001904\n",
      "Variance score: 0.999411\n"
     ]
    }
   ],
   "source": [
    "print \"Mean squared error: %.6f\" % np.mean((lr_model.predict(X_test) - y_test) ** 2)\n",
    "print('Variance score: %.6f' % lr_model.score(X_test, y_test))"
   ]
  }
 ],
 "metadata": {
  "anaconda-cloud": {},
  "kernelspec": {
   "display_name": "Python [conda root]",
   "language": "python",
   "name": "conda-root-py"
  },
  "language_info": {
   "codemirror_mode": {
    "name": "ipython",
    "version": 2
   },
   "file_extension": ".py",
   "mimetype": "text/x-python",
   "name": "python",
   "nbconvert_exporter": "python",
   "pygments_lexer": "ipython2",
   "version": "2.7.12"
  }
 },
 "nbformat": 4,
 "nbformat_minor": 1
}
